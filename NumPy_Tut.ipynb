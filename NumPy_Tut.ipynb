{
 "cells": [
  {
   "cell_type": "markdown",
   "id": "3bbe1096-c608-4b03-94dc-c23f7867bec9",
   "metadata": {},
   "source": [
    "### NumPy Tutorial\n",
    "''' NumPy is a general purpose array-processing package. It provides a high-performance multidimentional\n",
    "array object, and tools for working with these arrays it is the fundamental package for \n",
    "scientific computing with Python.'''\n",
    "\n",
    "## What is an Array\n",
    "''' An Array is a data structure that stores values of same data type. In Python, this is the main differrence\n",
    "between arrays and lists. While Python lists can contain values corresponding to different data types, array in \n",
    "Python can only contain values corresponding to same data type.'''"
   ]
  },
  {
   "cell_type": "code",
   "execution_count": 2,
   "id": "186dfb71-af0c-4ef5-b136-766de628689d",
   "metadata": {},
   "outputs": [],
   "source": [
    "import numpy as np"
   ]
  },
  {
   "cell_type": "code",
   "execution_count": 6,
   "id": "0377c784-95b2-4cd4-a958-d6e44eae89a8",
   "metadata": {},
   "outputs": [],
   "source": [
    "list = [1, 2, 3, 4, 5]\n",
    "\n",
    "array = np.array(list)"
   ]
  },
  {
   "cell_type": "code",
   "execution_count": 7,
   "id": "1a86cf81-63dd-47ce-8bde-8308cafc88af",
   "metadata": {},
   "outputs": [
    {
     "data": {
      "text/plain": [
       "numpy.ndarray"
      ]
     },
     "execution_count": 7,
     "metadata": {},
     "output_type": "execute_result"
    }
   ],
   "source": [
    "type(array)"
   ]
  },
  {
   "cell_type": "code",
   "execution_count": 8,
   "id": "73d4961b-0903-48da-be41-3b909c2d6996",
   "metadata": {},
   "outputs": [
    {
     "data": {
      "text/plain": [
       "array([1, 2, 3, 4, 5])"
      ]
     },
     "execution_count": 8,
     "metadata": {},
     "output_type": "execute_result"
    }
   ],
   "source": [
    "array"
   ]
  },
  {
   "cell_type": "code",
   "execution_count": 10,
   "id": "307fd677-120d-428e-a80f-865d00931574",
   "metadata": {},
   "outputs": [
    {
     "data": {
      "text/plain": [
       "(5,)"
      ]
     },
     "execution_count": 10,
     "metadata": {},
     "output_type": "execute_result"
    }
   ],
   "source": [
    "array.shape"
   ]
  },
  {
   "cell_type": "code",
   "execution_count": 14,
   "id": "7ee5f04c-85d0-4328-97d4-4637760518d2",
   "metadata": {},
   "outputs": [
    {
     "data": {
      "text/plain": [
       "numpy.ndarray"
      ]
     },
     "execution_count": 14,
     "metadata": {},
     "output_type": "execute_result"
    }
   ],
   "source": [
    "type(array)"
   ]
  },
  {
   "cell_type": "code",
   "execution_count": 17,
   "id": "752cee04-36ad-4378-9dc9-3131f01cfcb1",
   "metadata": {},
   "outputs": [],
   "source": [
    "## MultiNested Array\n",
    "\n",
    "my_list1 = [1, 2, 3, 4, 5]\n",
    "my_list2 = [2, 3, 4, 5, 6]\n",
    "my_list3 = [6, 7, 8, 9, 10]\n",
    "\n",
    "array = np.array([my_list1, my_list2, my_list3])"
   ]
  },
  {
   "cell_type": "code",
   "execution_count": 18,
   "id": "4d2a6d99-f9dd-4e3d-99bd-be4bd3efbcec",
   "metadata": {},
   "outputs": [
    {
     "data": {
      "text/plain": [
       "array([[ 1,  2,  3,  4,  5],\n",
       "       [ 2,  3,  4,  5,  6],\n",
       "       [ 6,  7,  8,  9, 10]])"
      ]
     },
     "execution_count": 18,
     "metadata": {},
     "output_type": "execute_result"
    }
   ],
   "source": [
    "array"
   ]
  },
  {
   "cell_type": "code",
   "execution_count": 19,
   "id": "64a04759-9a7a-476e-8bd9-bce5386a9abb",
   "metadata": {},
   "outputs": [
    {
     "data": {
      "text/plain": [
       "(3, 5)"
      ]
     },
     "execution_count": 19,
     "metadata": {},
     "output_type": "execute_result"
    }
   ],
   "source": [
    "array.shape"
   ]
  },
  {
   "cell_type": "code",
   "execution_count": 20,
   "id": "720e8437-65ce-4588-ac66-7dfc7b76aaa6",
   "metadata": {},
   "outputs": [
    {
     "data": {
      "text/plain": [
       "array([[ 1,  2,  3],\n",
       "       [ 4,  5,  2],\n",
       "       [ 3,  4,  5],\n",
       "       [ 6,  6,  7],\n",
       "       [ 8,  9, 10]])"
      ]
     },
     "execution_count": 20,
     "metadata": {},
     "output_type": "execute_result"
    }
   ],
   "source": [
    "array.reshape(5, 3)"
   ]
  },
  {
   "cell_type": "raw",
   "id": "b4408fa8-f87e-4c55-9202-5410eabf6fa1",
   "metadata": {},
   "source": []
  },
  {
   "cell_type": "code",
   "execution_count": null,
   "id": "87964c28-c9e6-47db-b735-c888c61d720f",
   "metadata": {},
   "outputs": [],
   "source": []
  }
 ],
 "metadata": {
  "kernelspec": {
   "display_name": "Python 3 (ipykernel)",
   "language": "python",
   "name": "python3"
  },
  "language_info": {
   "codemirror_mode": {
    "name": "ipython",
    "version": 3
   },
   "file_extension": ".py",
   "mimetype": "text/x-python",
   "name": "python",
   "nbconvert_exporter": "python",
   "pygments_lexer": "ipython3",
   "version": "3.11.7"
  }
 },
 "nbformat": 4,
 "nbformat_minor": 5
}
